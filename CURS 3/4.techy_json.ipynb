{
 "cells": [
  {
   "cell_type": "code",
   "execution_count": 66,
   "metadata": {},
   "outputs": [],
   "source": [
    "import requests\n",
    "import json"
   ]
  },
  {
   "cell_type": "code",
   "execution_count": 67,
   "metadata": {},
   "outputs": [],
   "source": [
    "URL_json = \"https://techy-api.vercel.app/api/json\""
   ]
  },
  {
   "cell_type": "code",
   "execution_count": 68,
   "metadata": {},
   "outputs": [
    {
     "name": "stdout",
     "output_type": "stream",
     "text": [
      "<Response [200]>\n"
     ]
    }
   ],
   "source": [
    "response = requests.get(URL_json)\n",
    "print(response)"
   ]
  },
  {
   "cell_type": "code",
   "execution_count": 69,
   "metadata": {},
   "outputs": [
    {
     "name": "stdout",
     "output_type": "stream",
     "text": [
      "200\n"
     ]
    }
   ],
   "source": [
    "print(response.status_code)"
   ]
  },
  {
   "cell_type": "code",
   "execution_count": 70,
   "metadata": {},
   "outputs": [
    {
     "name": "stdout",
     "output_type": "stream",
     "text": [
      "b'{\"message\":\"You should really get to fixing the thermal reduction\"}' <class 'bytes'>\n"
     ]
    }
   ],
   "source": [
    "print(response.content, type(response.content))"
   ]
  },
  {
   "cell_type": "code",
   "execution_count": 71,
   "metadata": {},
   "outputs": [
    {
     "name": "stdout",
     "output_type": "stream",
     "text": [
      "{\"message\":\"You should really get to fixing the thermal reduction\"} <class 'str'>\n"
     ]
    }
   ],
   "source": [
    "print(response.text, type(response.text))"
   ]
  },
  {
   "cell_type": "code",
   "execution_count": 72,
   "metadata": {},
   "outputs": [
    {
     "name": "stdout",
     "output_type": "stream",
     "text": [
      "{'message': 'You should really get to fixing the thermal reduction'} <class 'dict'>\n"
     ]
    }
   ],
   "source": [
    "print(response.json(), type(response.json()))"
   ]
  },
  {
   "cell_type": "code",
   "execution_count": 73,
   "metadata": {},
   "outputs": [
    {
     "name": "stdout",
     "output_type": "stream",
     "text": [
      "You should really get to fixing the thermal reduction\n"
     ]
    }
   ],
   "source": [
    "response_json = response.json()\n",
    "print(response_json[\"message\"])"
   ]
  },
  {
   "cell_type": "code",
   "execution_count": 74,
   "metadata": {},
   "outputs": [],
   "source": [
    "try:\n",
    "    with open(\"techy.json\", \"r\") as file_reader:\n",
    "        dictionarul_citit = json.load(file_reader)\n",
    "except:\n",
    "    dictionarul_citit = {\"mesaje\":[]}"
   ]
  },
  {
   "cell_type": "code",
   "execution_count": 75,
   "metadata": {},
   "outputs": [
    {
     "data": {
      "text/plain": [
       "{'mesaje': ['Its the part where you had to hash storage non-linear',\n",
       "  'I should really get to fixing the resistance suppression',\n",
       "  'I only had an error while configuring the suppression fragmentation',\n",
       "  'I should really get to fixing the linear hard-wired']}"
      ]
     },
     "execution_count": 75,
     "metadata": {},
     "output_type": "execute_result"
    }
   ],
   "source": [
    "dictionarul_citit"
   ]
  },
  {
   "cell_type": "code",
   "execution_count": 76,
   "metadata": {},
   "outputs": [],
   "source": [
    "dictionarul_citit[\"mesaje\"].append(response_json[\"message\"])"
   ]
  },
  {
   "cell_type": "code",
   "execution_count": 77,
   "metadata": {},
   "outputs": [
    {
     "data": {
      "text/plain": [
       "{'mesaje': ['Its the part where you had to hash storage non-linear',\n",
       "  'I should really get to fixing the resistance suppression',\n",
       "  'I only had an error while configuring the suppression fragmentation',\n",
       "  'I should really get to fixing the linear hard-wired',\n",
       "  'You should really get to fixing the thermal reduction']}"
      ]
     },
     "execution_count": 77,
     "metadata": {},
     "output_type": "execute_result"
    }
   ],
   "source": [
    "dictionarul_citit"
   ]
  },
  {
   "cell_type": "code",
   "execution_count": 78,
   "metadata": {},
   "outputs": [],
   "source": [
    "with open(\"techy.json\", \"w\") as file_writer:\n",
    "    json.dump(dictionarul_citit, file_writer)"
   ]
  }
 ],
 "metadata": {
  "kernelspec": {
   "display_name": "Python 3",
   "language": "python",
   "name": "python3"
  },
  "language_info": {
   "codemirror_mode": {
    "name": "ipython",
    "version": 3
   },
   "file_extension": ".py",
   "mimetype": "text/x-python",
   "name": "python",
   "nbconvert_exporter": "python",
   "pygments_lexer": "ipython3",
   "version": "3.12.5"
  }
 },
 "nbformat": 4,
 "nbformat_minor": 2
}
