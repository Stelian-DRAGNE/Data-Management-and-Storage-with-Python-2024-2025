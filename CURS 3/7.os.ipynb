{
 "cells": [
  {
   "cell_type": "code",
   "execution_count": 1,
   "metadata": {},
   "outputs": [],
   "source": [
    "import os"
   ]
  },
  {
   "cell_type": "code",
   "execution_count": 3,
   "metadata": {},
   "outputs": [
    {
     "name": "stdout",
     "output_type": "stream",
     "text": [
      "['.pytest_cache', '1.techy_text.ipynb', '2.techy_text.py', '3.techy_json.py', '4.techy_json.ipynb', '5.jokes.ipynb', '6.jokes_image.py', '7.os.ipynb', 'Data_Management_curs3.pdf', 'techy.json', 'techy.txt']\n"
     ]
    }
   ],
   "source": [
    "print(os.listdir())"
   ]
  },
  {
   "cell_type": "code",
   "execution_count": 4,
   "metadata": {},
   "outputs": [
    {
     "name": "stdout",
     "output_type": "stream",
     "text": [
      "d:\\DIVERSE\\LINK ACADEMY\\2. AI & PYTHON DEVELOPMENT - 2024 - 2025\\TRADITIONAL\\4. Data Management and Storage with Python\\CURS 3 - 14.02.2025\n"
     ]
    }
   ],
   "source": [
    "print(os.getcwd())"
   ]
  },
  {
   "cell_type": "code",
   "execution_count": 8,
   "metadata": {},
   "outputs": [
    {
     "name": "stdout",
     "output_type": "stream",
     "text": [
      "Nu sunt permisiuni.\n"
     ]
    }
   ],
   "source": [
    "try:\n",
    "    os.remove(\"osfolder\")\n",
    "except PermissionError:\n",
    "    print(\"Nu sunt permisiuni.\")"
   ]
  },
  {
   "cell_type": "code",
   "execution_count": 10,
   "metadata": {},
   "outputs": [
    {
     "name": "stdout",
     "output_type": "stream",
     "text": [
      "Fisierul exista deja.\n"
     ]
    }
   ],
   "source": [
    "try:\n",
    "    os.mkdir(\"osfolder\")\n",
    "except FileExistsError:\n",
    "    print(\"Fisierul exista deja.\")"
   ]
  },
  {
   "cell_type": "code",
   "execution_count": 11,
   "metadata": {},
   "outputs": [
    {
     "name": "stdout",
     "output_type": "stream",
     "text": [
      "Folderul exista deja.\n"
     ]
    }
   ],
   "source": [
    "if os.path.isdir(\"osfolder\"):\n",
    "    print(\"Folderul exista deja.\")\n",
    "else:\n",
    "    print(\"Folderul nu exista.\")"
   ]
  }
 ],
 "metadata": {
  "kernelspec": {
   "display_name": "Python 3",
   "language": "python",
   "name": "python3"
  },
  "language_info": {
   "codemirror_mode": {
    "name": "ipython",
    "version": 3
   },
   "file_extension": ".py",
   "mimetype": "text/x-python",
   "name": "python",
   "nbconvert_exporter": "python",
   "pygments_lexer": "ipython3",
   "version": "3.12.5"
  }
 },
 "nbformat": 4,
 "nbformat_minor": 2
}
