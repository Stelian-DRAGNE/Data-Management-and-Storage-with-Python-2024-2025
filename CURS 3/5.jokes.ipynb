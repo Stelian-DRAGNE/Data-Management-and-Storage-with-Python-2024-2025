{
 "cells": [
  {
   "cell_type": "code",
   "execution_count": 1,
   "metadata": {},
   "outputs": [],
   "source": [
    "import requests\n",
    "import json"
   ]
  },
  {
   "cell_type": "code",
   "execution_count": 5,
   "metadata": {},
   "outputs": [
    {
     "name": "stdout",
     "output_type": "stream",
     "text": [
      "b'{\"id\":\"UfiGljVKusc\",\"joke\":\"Why was the strawberry sad? Its parents were in a jam.\",\"status\":200}\\n'\n"
     ]
    }
   ],
   "source": [
    "URL = \"https://icanhazdadjoke.com/\"\n",
    "headers = {\n",
    "    \"Accept\":\"application/json\"\n",
    "}\n",
    "response = requests.get(URL, headers = headers)\n",
    "print(response.content)"
   ]
  },
  {
   "cell_type": "code",
   "execution_count": 7,
   "metadata": {},
   "outputs": [
    {
     "data": {
      "text/plain": [
       "'Why was the strawberry sad? Its parents were in a jam.'"
      ]
     },
     "execution_count": 7,
     "metadata": {},
     "output_type": "execute_result"
    }
   ],
   "source": [
    "response.json()[\"joke\"]"
   ]
  },
  {
   "cell_type": "code",
   "execution_count": 8,
   "metadata": {},
   "outputs": [
    {
     "name": "stdout",
     "output_type": "stream",
     "text": [
      "b'What did the dog say to the two trees? Bark bark.'\n"
     ]
    }
   ],
   "source": [
    "URL = \"https://icanhazdadjoke.com/\"\n",
    "headers = {\n",
    "    \"Accept\":\"text/plain\"\n",
    "}\n",
    "response = requests.get(URL, headers = headers)\n",
    "print(response.content)"
   ]
  }
 ],
 "metadata": {
  "kernelspec": {
   "display_name": "Python 3",
   "language": "python",
   "name": "python3"
  },
  "language_info": {
   "codemirror_mode": {
    "name": "ipython",
    "version": 3
   },
   "file_extension": ".py",
   "mimetype": "text/x-python",
   "name": "python",
   "nbconvert_exporter": "python",
   "pygments_lexer": "ipython3",
   "version": "3.12.5"
  }
 },
 "nbformat": 4,
 "nbformat_minor": 2
}
