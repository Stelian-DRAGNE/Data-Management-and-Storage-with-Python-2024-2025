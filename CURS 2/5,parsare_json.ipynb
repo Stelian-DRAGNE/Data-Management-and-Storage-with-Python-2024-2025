{
 "cells": [
  {
   "cell_type": "code",
   "execution_count": 1,
   "metadata": {},
   "outputs": [],
   "source": [
    "# Grupa,Teaml,Team2,Team3,Team4\n",
    "# Group A,Hungary,Switzerland,Germany,Scotland\n",
    "# Group B,Spain,Italy,Croatia,Albania\n",
    "# Group C,Denmark,England,Slovenia,Serbia\n",
    "# Group D,France,Austria,Poland,Netherlands\n",
    "# Group E,Romania,Ukraine,Slovakia,Belgium\n",
    "# Group F,Czech Republic,Portugal,Turkey,Georgia"
   ]
  },
  {
   "cell_type": "code",
   "execution_count": 2,
   "metadata": {},
   "outputs": [],
   "source": [
    "import json\n",
    "from pprint import pprint"
   ]
  },
  {
   "cell_type": "code",
   "execution_count": 4,
   "metadata": {},
   "outputs": [
    {
     "name": "stdout",
     "output_type": "stream",
     "text": [
      "<class 'dict'>\n",
      "{'name': 'Euro 2024', 'groups': [{'name': 'Group A', 'teams': [{'name': 'Hungary', 'code': 'HUN'}, {'name': 'Switzerland', 'code': 'SUI'}, {'name': 'Germany', 'code': 'GER'}, {'name': 'Scotland', 'code': 'SCO'}]}, {'name': 'Group B', 'teams': [{'name': 'Spain', 'code': 'ESP'}, {'name': 'Italy', 'code': 'ITA'}, {'name': 'Croatia', 'code': 'CRO'}, {'name': 'Albania', 'code': 'ALB'}]}, {'name': 'Group C', 'teams': [{'name': 'Denmark', 'code': 'DEN'}, {'name': 'England', 'code': 'ENG'}, {'name': 'Slovenia', 'code': 'SVN'}, {'name': 'Serbia', 'code': 'SRB'}]}, {'name': 'Group D', 'teams': [{'name': 'France', 'code': 'FRA'}, {'name': 'Austria', 'code': 'AUT'}, {'name': 'Poland', 'code': 'POL'}, {'name': 'Netherlands', 'code': 'NED'}]}, {'name': 'Group E', 'teams': [{'name': 'Romania', 'code': 'ROU'}, {'name': 'Ukraine', 'code': 'UKR'}, {'name': 'Slovakia', 'code': 'SVK'}, {'name': 'Belgium', 'code': 'BEL'}]}, {'name': 'Group F', 'teams': [{'name': 'Czech Republic', 'code': 'CZE'}, {'name': 'Portugal', 'code': 'POR'}, {'name': 'Turkey', 'code': 'TUR'}, {'name': 'Georgia', 'code': 'GEO'}]}]}\n"
     ]
    }
   ],
   "source": [
    "with open(\"euro_2024.json\") as file_handler:\n",
    "    continut_parsat = json.load(file_handler)\n",
    "    print(type(continut_parsat))\n",
    "    print(continut_parsat)"
   ]
  },
  {
   "cell_type": "code",
   "execution_count": 6,
   "metadata": {},
   "outputs": [
    {
     "data": {
      "text/plain": [
       "[{'name': 'Group A',\n",
       "  'teams': [{'name': 'Hungary', 'code': 'HUN'},\n",
       "   {'name': 'Switzerland', 'code': 'SUI'},\n",
       "   {'name': 'Germany', 'code': 'GER'},\n",
       "   {'name': 'Scotland', 'code': 'SCO'}]},\n",
       " {'name': 'Group B',\n",
       "  'teams': [{'name': 'Spain', 'code': 'ESP'},\n",
       "   {'name': 'Italy', 'code': 'ITA'},\n",
       "   {'name': 'Croatia', 'code': 'CRO'},\n",
       "   {'name': 'Albania', 'code': 'ALB'}]},\n",
       " {'name': 'Group C',\n",
       "  'teams': [{'name': 'Denmark', 'code': 'DEN'},\n",
       "   {'name': 'England', 'code': 'ENG'},\n",
       "   {'name': 'Slovenia', 'code': 'SVN'},\n",
       "   {'name': 'Serbia', 'code': 'SRB'}]},\n",
       " {'name': 'Group D',\n",
       "  'teams': [{'name': 'France', 'code': 'FRA'},\n",
       "   {'name': 'Austria', 'code': 'AUT'},\n",
       "   {'name': 'Poland', 'code': 'POL'},\n",
       "   {'name': 'Netherlands', 'code': 'NED'}]},\n",
       " {'name': 'Group E',\n",
       "  'teams': [{'name': 'Romania', 'code': 'ROU'},\n",
       "   {'name': 'Ukraine', 'code': 'UKR'},\n",
       "   {'name': 'Slovakia', 'code': 'SVK'},\n",
       "   {'name': 'Belgium', 'code': 'BEL'}]},\n",
       " {'name': 'Group F',\n",
       "  'teams': [{'name': 'Czech Republic', 'code': 'CZE'},\n",
       "   {'name': 'Portugal', 'code': 'POR'},\n",
       "   {'name': 'Turkey', 'code': 'TUR'},\n",
       "   {'name': 'Georgia', 'code': 'GEO'}]}]"
      ]
     },
     "execution_count": 6,
     "metadata": {},
     "output_type": "execute_result"
    }
   ],
   "source": [
    "grupe = continut_parsat[\"groups\"]\n",
    "grupe"
   ]
  },
  {
   "cell_type": "code",
   "execution_count": 7,
   "metadata": {},
   "outputs": [
    {
     "name": "stdout",
     "output_type": "stream",
     "text": [
      "Group A\n",
      "Group B\n",
      "Group C\n",
      "Group D\n",
      "Group E\n",
      "Group F\n"
     ]
    }
   ],
   "source": [
    "for gr in grupe:\n",
    "    print(gr[\"name\"]) "
   ]
  },
  {
   "cell_type": "code",
   "execution_count": 9,
   "metadata": {},
   "outputs": [
    {
     "name": "stdout",
     "output_type": "stream",
     "text": [
      "Group A\n",
      "Hungary\n",
      "Switzerland\n",
      "Germany\n",
      "Scotland\n",
      "Group B\n",
      "Spain\n",
      "Italy\n",
      "Croatia\n",
      "Albania\n",
      "Group C\n",
      "Denmark\n",
      "England\n",
      "Slovenia\n",
      "Serbia\n",
      "Group D\n",
      "France\n",
      "Austria\n",
      "Poland\n",
      "Netherlands\n",
      "Group E\n",
      "Romania\n",
      "Ukraine\n",
      "Slovakia\n",
      "Belgium\n",
      "Group F\n",
      "Czech Republic\n",
      "Portugal\n",
      "Turkey\n",
      "Georgia\n"
     ]
    }
   ],
   "source": [
    "for gr in grupe:\n",
    "    print(gr[\"name\"]) \n",
    "    for team in gr[\"teams\"]:\n",
    "        print(team[\"name\"])"
   ]
  },
  {
   "cell_type": "code",
   "execution_count": 10,
   "metadata": {},
   "outputs": [
    {
     "name": "stdout",
     "output_type": "stream",
     "text": [
      "[['Group A', 'Hungary', 'Switzerland', 'Germany', 'Scotland'], ['Group B', 'Spain', 'Italy', 'Croatia', 'Albania'], ['Group C', 'Denmark', 'England', 'Slovenia', 'Serbia'], ['Group D', 'France', 'Austria', 'Poland', 'Netherlands'], ['Group E', 'Romania', 'Ukraine', 'Slovakia', 'Belgium'], ['Group F', 'Czech Republic', 'Portugal', 'Turkey', 'Georgia']]\n"
     ]
    }
   ],
   "source": [
    "euro = []\n",
    "for gr in grupe:\n",
    "    euro_grupa = []\n",
    "    euro_grupa.append(gr[\"name\"]) \n",
    "    for team in gr[\"teams\"]:\n",
    "        euro_grupa.append(team[\"name\"])\n",
    "\n",
    "    euro.append(euro_grupa)\n",
    "\n",
    "print(euro)"
   ]
  },
  {
   "cell_type": "code",
   "execution_count": 20,
   "metadata": {},
   "outputs": [],
   "source": [
    "with open(\"rezultat.csv\", \"w\") as file_handler:\n",
    "    file_handler.write(\"Grupa,Echipa1,Echipa2,Echipa3,Echipa4\\n\")\n",
    "    for grupa in euro:\n",
    "        for item in grupa:\n",
    "            if grupa.index(item) == 0:\n",
    "                file_handler.write(item)\n",
    "            else:\n",
    "                file_handler.write(\",\" + item)\n",
    "        file_handler.write(\"\\n\")"
   ]
  },
  {
   "cell_type": "code",
   "execution_count": 21,
   "metadata": {},
   "outputs": [],
   "source": [
    "import csv\n",
    "with open(\"rezultat2.csv\", \"w\") as file_handler:\n",
    "    csv_writer = csv.writer(file_handler)\n",
    "    csv_writer.writerow([\"Grupa\",\"Echipa1\",\"Echipa2\",\"Echipa3\",\"Echipa4\"])\n",
    "    csv_writer.writerows(euro)"
   ]
  }
 ],
 "metadata": {
  "kernelspec": {
   "display_name": "Python 3",
   "language": "python",
   "name": "python3"
  },
  "language_info": {
   "codemirror_mode": {
    "name": "ipython",
    "version": 3
   },
   "file_extension": ".py",
   "mimetype": "text/x-python",
   "name": "python",
   "nbconvert_exporter": "python",
   "pygments_lexer": "ipython3",
   "version": "3.12.5"
  }
 },
 "nbformat": 4,
 "nbformat_minor": 2
}
